{
 "cells": [
  {
   "cell_type": "code",
   "execution_count": 10,
   "metadata": {},
   "outputs": [
    {
     "name": "stdout",
     "output_type": "stream",
     "text": [
      "select an operation\n",
      "1. addition\n",
      "2. substraction\n",
      "3. multipliction\n",
      "4. division\n"
     ]
    },
    {
     "name": "stdin",
     "output_type": "stream",
     "text": [
      "enter an option 1/2/3/4 1\n",
      "enter the 1st number 3.141659786\n",
      "enter the 2nd number 1.13243\n"
     ]
    },
    {
     "name": "stdout",
     "output_type": "stream",
     "text": [
      "4.274089786\n"
     ]
    }
   ],
   "source": [
    "def calculator():\n",
    "    print('select an operation')\n",
    "    print(\"1. addition\")\n",
    "    print(\"2. substraction\")\n",
    "    print(\"3. multipliction\")\n",
    "    print(\"4. division\")\n",
    "    \n",
    "    choice = input(\"enter an option 1/2/3/4\")\n",
    "    \n",
    "    if choice in [\"1\",\"2\",\"3\",\"4\"]:\n",
    "        num1 = float(input(\"enter the 1st number\"))\n",
    "        num2 = float(input(\"enter the 2nd number\"))\n",
    "    \n",
    "        if choice == \"1\":\n",
    "            num= num1 + num2\n",
    "            print(num)\n",
    "        elif choice == \"2\":\n",
    "            num= num1 - num2\n",
    "            print(num)\n",
    "    \n",
    "        elif choice == \"3\":\n",
    "            num= num1 * num2\n",
    "            print(num)\n",
    "    \n",
    "        elif choice == \"4\":\n",
    "            if num2 != 0:\n",
    "                num = num1 / num2\n",
    "                print(num)\n",
    "            else:\n",
    "                print(\"enter a valid number without zero\")\n",
    "    else:\n",
    "        print(\"not a valid operation number please check\")\n",
    "calculator()    "
   ]
  },
  {
   "cell_type": "code",
   "execution_count": 21,
   "metadata": {},
   "outputs": [
    {
     "name": "stdout",
     "output_type": "stream",
     "text": [
      "select an operation\n",
      "1. addition\n",
      "2. substraction\n",
      "3. multipliction\n",
      "4. division\n"
     ]
    },
    {
     "name": "stdin",
     "output_type": "stream",
     "text": [
      "enter an option 1/2/3/4 1\n",
      "enter the 1st number 20\n",
      "enter the 2nd number 15\n"
     ]
    },
    {
     "name": "stdout",
     "output_type": "stream",
     "text": [
      "Result: 35.0\n"
     ]
    }
   ],
   "source": [
    "def add(num1, num2):\n",
    "    return num1 + num2\n",
    "        \n",
    "def sub(num1, num2):\n",
    "    return num1-num2\n",
    "\n",
    "def mul(num1, num2):\n",
    "    return  num1*num2\n",
    "\n",
    "def div(num1, num2):\n",
    "    if num2 != 0:\n",
    "        return num1/num2\n",
    "    else:\n",
    "        return  'error'\n",
    "\n",
    "def calculator():\n",
    "    print('select an operation')\n",
    "    print(\"1. addition\")\n",
    "    print(\"2. substraction\")\n",
    "    print(\"3. multipliction\")\n",
    "    print(\"4. division\")\n",
    "    \n",
    "    choice = input(\"enter an option 1/2/3/4\")\n",
    "    \n",
    "    if choice in [\"1\",\"2\",\"3\",\"4\"]:\n",
    "        num1 = float(input(\"enter the 1st number\"))\n",
    "        num2 = float(input(\"enter the 2nd number\"))\n",
    "\n",
    "        if choice == \"1\":\n",
    "            print(\"Result:\", add(num1, num2))\n",
    "        elif choice == \"2\":\n",
    "            print(\"Result:\", sub(num1, num2))\n",
    "        elif choice == \"3\":\n",
    "            print(\"Result:\", mul(num1, num2))\n",
    "        elif choice == \"4\":\n",
    "            print(\"Result:\", div(num1, num2))\n",
    "    else:\n",
    "        print(\"not a valid operation number please check\") \n",
    "calculator()"
   ]
  },
  {
   "cell_type": "code",
   "execution_count": null,
   "metadata": {},
   "outputs": [],
   "source": []
  },
  {
   "cell_type": "code",
   "execution_count": null,
   "metadata": {},
   "outputs": [],
   "source": []
  },
  {
   "cell_type": "code",
   "execution_count": null,
   "metadata": {},
   "outputs": [],
   "source": []
  },
  {
   "cell_type": "code",
   "execution_count": null,
   "metadata": {},
   "outputs": [],
   "source": []
  },
  {
   "cell_type": "code",
   "execution_count": null,
   "metadata": {},
   "outputs": [],
   "source": []
  },
  {
   "cell_type": "code",
   "execution_count": null,
   "metadata": {},
   "outputs": [],
   "source": []
  },
  {
   "cell_type": "code",
   "execution_count": null,
   "metadata": {},
   "outputs": [],
   "source": []
  },
  {
   "cell_type": "code",
   "execution_count": null,
   "metadata": {},
   "outputs": [],
   "source": []
  },
  {
   "cell_type": "code",
   "execution_count": null,
   "metadata": {},
   "outputs": [],
   "source": []
  },
  {
   "cell_type": "code",
   "execution_count": null,
   "metadata": {},
   "outputs": [],
   "source": []
  },
  {
   "cell_type": "code",
   "execution_count": null,
   "metadata": {},
   "outputs": [],
   "source": []
  },
  {
   "cell_type": "code",
   "execution_count": null,
   "metadata": {},
   "outputs": [],
   "source": []
  },
  {
   "cell_type": "code",
   "execution_count": null,
   "metadata": {},
   "outputs": [],
   "source": []
  },
  {
   "cell_type": "code",
   "execution_count": null,
   "metadata": {},
   "outputs": [],
   "source": []
  },
  {
   "cell_type": "code",
   "execution_count": null,
   "metadata": {},
   "outputs": [],
   "source": []
  },
  {
   "cell_type": "code",
   "execution_count": null,
   "metadata": {},
   "outputs": [],
   "source": []
  },
  {
   "cell_type": "code",
   "execution_count": null,
   "metadata": {},
   "outputs": [],
   "source": []
  },
  {
   "cell_type": "code",
   "execution_count": null,
   "metadata": {},
   "outputs": [],
   "source": []
  },
  {
   "cell_type": "code",
   "execution_count": null,
   "metadata": {},
   "outputs": [],
   "source": []
  },
  {
   "cell_type": "code",
   "execution_count": null,
   "metadata": {},
   "outputs": [],
   "source": []
  }
 ],
 "metadata": {
  "kernelspec": {
   "display_name": "Python 3 (ipykernel)",
   "language": "python",
   "name": "python3"
  },
  "language_info": {
   "codemirror_mode": {
    "name": "ipython",
    "version": 3
   },
   "file_extension": ".py",
   "mimetype": "text/x-python",
   "name": "python",
   "nbconvert_exporter": "python",
   "pygments_lexer": "ipython3",
   "version": "3.11.4"
  }
 },
 "nbformat": 4,
 "nbformat_minor": 4
}
