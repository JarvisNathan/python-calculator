{
 "cells": [
  {
   "cell_type": "code",
   "execution_count": 3,
   "id": "200837fc-5fc8-4c82-8c33-020307970566",
   "metadata": {},
   "outputs": [
    {
     "name": "stdin",
     "output_type": "stream",
     "text": [
      " 0\n"
     ]
    },
    {
     "ename": "TypeError",
     "evalue": "unsupported operand type(s) for /: 'int' and 'str'",
     "output_type": "error",
     "traceback": [
      "\u001b[31m---------------------------------------------------------------------------\u001b[39m",
      "\u001b[31mTypeError\u001b[39m                                 Traceback (most recent call last)",
      "\u001b[36mCell\u001b[39m\u001b[36m \u001b[39m\u001b[32mIn[3]\u001b[39m\u001b[32m, line 3\u001b[39m\n\u001b[32m      1\u001b[39m onujib = \u001b[32m11\u001b[39m\n\u001b[32m      2\u001b[39m ajib = \u001b[38;5;28minput\u001b[39m()\n\u001b[32m----> \u001b[39m\u001b[32m3\u001b[39m \u001b[38;5;28mprint\u001b[39m(\u001b[43monujib\u001b[49m\u001b[43m/\u001b[49m\u001b[43majib\u001b[49m)\n",
      "\u001b[31mTypeError\u001b[39m: unsupported operand type(s) for /: 'int' and 'str'"
     ]
    }
   ],
   "source": [
    "onujib = 11\n",
    "ajib = input()\n",
    "print(onujib/ajib)"
   ]
  },
  {
   "cell_type": "code",
   "execution_count": 4,
   "id": "53cadf85-d3c8-4205-8e52-363b9b4a389a",
   "metadata": {},
   "outputs": [
    {
     "name": "stdin",
     "output_type": "stream",
     "text": [
      " 1\n"
     ]
    },
    {
     "name": "stdout",
     "output_type": "stream",
     "text": [
      "enter a valid integer number\n"
     ]
    }
   ],
   "source": [
    "try:\n",
    "    onujib = 11\n",
    "    ajib = input()\n",
    "    print(onujib/ajib)\n",
    "except TypeError:\n",
    "     print(\"enter a valid integer number\")"
   ]
  },
  {
   "cell_type": "code",
   "execution_count": 10,
   "id": "33672dd8-2a89-4431-ac9e-addc6b04b8fb",
   "metadata": {},
   "outputs": [
    {
     "name": "stdin",
     "output_type": "stream",
     "text": [
      " 0\n"
     ]
    },
    {
     "name": "stdout",
     "output_type": "stream",
     "text": [
      "enter a valid integer number\n",
      "done\n"
     ]
    }
   ],
   "source": [
    "try:\n",
    "    onujib = 11\n",
    "    ajib = int(input())\n",
    "    print(onujib/ajib)\n",
    "    \n",
    "except TypeError:\n",
    "     print(\"type must be an integer number\")\n",
    "except ZeroDivisionError:\n",
    "     print(\"enter a valid integer number\")\n",
    "finally:\n",
    "    print(\"done\")"
   ]
  },
  {
   "cell_type": "code",
   "execution_count": 11,
   "id": "3cbd8824-adb0-40d3-9a31-a81a0cf7230f",
   "metadata": {},
   "outputs": [
    {
     "data": {
      "text/plain": [
       "{'name': 'jarvuis', 'age': 15}"
      ]
     },
     "execution_count": 11,
     "metadata": {},
     "output_type": "execute_result"
    }
   ],
   "source": [
    "data = {\"name\": \"jarvuis\",\n",
    "       \"age\": 15}\n",
    "data\n"
   ]
  },
  {
   "cell_type": "code",
   "execution_count": 14,
   "id": "4a413aab-2e29-4fd5-ab1d-57147b630fdb",
   "metadata": {},
   "outputs": [
    {
     "name": "stdout",
     "output_type": "stream",
     "text": [
      "keyt error \n",
      "done\n"
     ]
    }
   ],
   "source": [
    "try:\n",
    "    print(data[\"gender\"])\n",
    "except KeyError:\n",
    "     print(\"keyt error \")\n",
    "finally:\n",
    "    print(\"done\")"
   ]
  },
  {
   "cell_type": "code",
   "execution_count": 15,
   "id": "532079a0-63ec-45d7-91c1-8d0c67779e51",
   "metadata": {},
   "outputs": [
    {
     "name": "stdin",
     "output_type": "stream",
     "text": [
      " 0\n"
     ]
    },
    {
     "name": "stdout",
     "output_type": "stream",
     "text": [
      "code ok\n"
     ]
    },
    {
     "ename": "ZeroDivisionError",
     "evalue": "division by zero",
     "output_type": "error",
     "traceback": [
      "\u001b[31m---------------------------------------------------------------------------\u001b[39m",
      "\u001b[31mZeroDivisionError\u001b[39m                         Traceback (most recent call last)",
      "\u001b[36mCell\u001b[39m\u001b[36m \u001b[39m\u001b[32mIn[15]\u001b[39m\u001b[32m, line 4\u001b[39m\n\u001b[32m      2\u001b[39m     onujib = \u001b[32m11\u001b[39m\n\u001b[32m      3\u001b[39m     ajib = \u001b[38;5;28mint\u001b[39m(\u001b[38;5;28minput\u001b[39m())\n\u001b[32m----> \u001b[39m\u001b[32m4\u001b[39m     \u001b[38;5;28mprint\u001b[39m(\u001b[43monujib\u001b[49m\u001b[43m/\u001b[49m\u001b[43majib\u001b[49m)\n\u001b[32m      6\u001b[39m \u001b[38;5;28;01mexcept\u001b[39;00m \u001b[38;5;167;01mTypeError\u001b[39;00m:\n\u001b[32m      7\u001b[39m      \u001b[38;5;28mprint\u001b[39m(\u001b[33m\"\u001b[39m\u001b[33mtype must be an integer number\u001b[39m\u001b[33m\"\u001b[39m)\n",
      "\u001b[31mZeroDivisionError\u001b[39m: division by zero"
     ]
    }
   ],
   "source": [
    "try:\n",
    "    onujib = 11\n",
    "    ajib = int(input())\n",
    "    print(onujib/ajib)\n",
    "    \n",
    "except TypeError:\n",
    "     print(\"type must be an integer number\")\n",
    "finally:\n",
    "    print(\"code ok\")"
   ]
  },
  {
   "cell_type": "code",
   "execution_count": null,
   "id": "5b1fec4f-a69a-4a73-9aa0-db0525af0b46",
   "metadata": {},
   "outputs": [],
   "source": []
  }
 ],
 "metadata": {
  "kernelspec": {
   "display_name": "Python 3 (ipykernel)",
   "language": "python",
   "name": "python3"
  },
  "language_info": {
   "codemirror_mode": {
    "name": "ipython",
    "version": 3
   },
   "file_extension": ".py",
   "mimetype": "text/x-python",
   "name": "python",
   "nbconvert_exporter": "python",
   "pygments_lexer": "ipython3",
   "version": "3.11.4"
  }
 },
 "nbformat": 4,
 "nbformat_minor": 5
}
